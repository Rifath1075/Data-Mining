{
 "cells": [
  {
   "cell_type": "markdown",
   "metadata": {
    "id": "5hox4fEXzdP-"
   },
   "source": [
    "# Lab session 4: Data Warehousing and On-line Analytical Processing"
   ]
  },
  {
   "cell_type": "markdown",
   "metadata": {
    "id": "gIVISJEEzdQA"
   },
   "source": [
    "## Introduction \n",
    "\n",
    "The aim of this lab (Lab session 4) is for students to get experience with **Data Warehousing** and **On-line Analytical Processing (OLAP)** covered in lecture 5, and more specifically with the concepts of **data cubes**, **data cube measures**, **typical OLAP operations**, and **data cube computation**.\n",
    "\n",
    "- This lab is the first part of a **two-week assignment** that covers lectures 5 and 6, which is due on **Tuesday 9th November at 10am**.\n",
    "- The assignment will account for 10% of your overall grade. Questions in this lab sheet (Lab session 4) will contribute to 5% of your overall grade; questions in the sheet of Lab session 5 will cover for another 5% of your overall grade.\n",
    "- <font color = 'maroon'>The last section of this notebook includes the questions that are assessed towards your final grade.</font> "
   ]
  },
  {
   "cell_type": "markdown",
   "metadata": {
    "id": "ZbqGGfoDzdQC"
   },
   "source": [
    "## Important notes about the assignment: \n",
    "\n",
    "- **PLAGIARISM** <ins>is an irreversible non-negotiable failure in the course</ins> (if in doubt of what constitutes plagiarism, ask!). \n",
    "- The total assessed coursework is worth 40% of your final grade.\n",
    "- There will be 9 lab sessions and 4 assignments.\n",
    "- One assignment will cover 2 consecutive lab sessions and will be worth 10 marks (percentages of your final grade).\n",
    "- The submission cut-off date will be 7 days after the deadline and penalties will be applied for late submissions in accordance with the School policy on late submissions.\n",
    "- You are asked to submit a **report** that should answer the questions specified in the last section of this notebook. The report should be in **PDF format** (so **NOT** *doc, docx, notebook* etc). It should be well identified with your name, student number, assignment number (for instance, Assignment 1), module, and marked with question numbers. \n",
    "- No other means of submission other than submitting your assignment through the appropriate QM+ link are acceptable at any time. Submissions sent via email will **not** be considered.\n",
    "- Please name your report as follows: Assignment2-StudentName-StudentNumber.pdf\n",
    "- Cases of **Extenuating Circumstances (ECs)** have to go through the proper procedure of the School in due time. Only cases approved by the School in due time can be considered."
   ]
  },
  {
   "cell_type": "markdown",
   "metadata": {
    "id": "D1qCdQp2zdQE"
   },
   "source": [
    "## 1. Introduction to Cubes\n",
    "\n",
    "This chapter describes step-by-step how to use Cubes (http://cubes.databrewery.org/), a lightweight Python framework and set of tools for development of reporting and analytical applications, Online Analytical Processing (OLAP), multidimensional analysis and browsing of aggregated data. We will be working with v1.1 of Cubes. Cubes features:\n",
    "- a logical view of analysed data - how analysts look at data, how they think of data, not not how the data are physically implemented in the data stores\n",
    "- OLAP and aggregated browsing (default backend is for relational databse - ROLAP)\n",
    "- hierarchical dimensions (attributes that have hierarchical dependencies, such as category-subcategory or country-region)\n",
    "- multiple hierarchies in a dimension\n",
    "- localizable metadata and data (see Localization)\n",
    "- authentication and authorization of cubes and their data\n",
    "- pluggable data warehouse – plug-in other cube-like (multidimensional) data sources\n",
    "\n",
    "Cubes is meant to be used by application builders that want to provide analytical functionality. Cubes also relies on methods from SQLAlchemy (https://www.sqlalchemy.org/), an open-source SQL toolkit and object-relational mapper for Python."
   ]
  },
  {
   "cell_type": "markdown",
   "metadata": {
    "id": "9szp7SwgzdQG"
   },
   "source": [
    "## 2. Data Preparation\n",
    "\n",
    "The example data used here is the International Bank for Reconstruction and Development (IBRD) Balance Sheet. For this example we will be using the CSV file \"IBRD_Balance_Sheet__FY2010.csv\" which is provided in the supplementary material for the lab. The CSV file includes records which are characterised by a Category (and subcategories), Line Item, Fiscal Year, and Amount (in US$ millions). We first start with imports:"
   ]
  },
  {
   "cell_type": "code",
   "execution_count": 1,
   "metadata": {
    "id": "FXIBCAyPzdQG"
   },
   "outputs": [
    {
     "name": "stdout",
     "output_type": "stream",
     "text": [
      "Requirement already satisfied: cubes in /opt/conda/lib/python3.9/site-packages (1.1)\n",
      "Requirement already satisfied: python-dateutil in /opt/conda/lib/python3.9/site-packages (from cubes) (2.8.2)\n",
      "Requirement already satisfied: jsonschema in /opt/conda/lib/python3.9/site-packages (from cubes) (3.2.0)\n",
      "Requirement already satisfied: expressions>=0.2.3 in /opt/conda/lib/python3.9/site-packages (from cubes) (0.2.3)\n",
      "Requirement already satisfied: grako>=3.9.3 in /opt/conda/lib/python3.9/site-packages (from expressions>=0.2.3->cubes) (3.99.9)\n",
      "Requirement already satisfied: pyrsistent>=0.14.0 in /opt/conda/lib/python3.9/site-packages (from jsonschema->cubes) (0.17.3)\n",
      "Requirement already satisfied: attrs>=17.4.0 in /opt/conda/lib/python3.9/site-packages (from jsonschema->cubes) (21.2.0)\n",
      "Requirement already satisfied: six>=1.11.0 in /opt/conda/lib/python3.9/site-packages (from jsonschema->cubes) (1.15.0)\n",
      "Requirement already satisfied: setuptools in /opt/conda/lib/python3.9/site-packages (from jsonschema->cubes) (58.0.4)\n",
      "Requirement already satisfied: sqlalchemy==1.3.20 in /opt/conda/lib/python3.9/site-packages (1.3.20)\n"
     ]
    }
   ],
   "source": [
    "# If you are using Google Colab, you would need to run the below line to install Cubes. \n",
    "# You can comment the below line if you are running a local python installation with Cubes installed.\n",
    "!pip install cubes\n",
    "!pip install sqlalchemy==1.3.20\n",
    "from sqlalchemy import create_engine\n",
    "from cubes.tutorial.sql import create_table_from_csv"
   ]
  },
  {
   "cell_type": "markdown",
   "metadata": {
    "id": "fwzYQ-RWzdQH"
   },
   "source": [
    "We can now load the data, create a table and populate it with contents of the CSV file. Note the categories and subcategories created; check the CSV file to link the below commands with the contents of the dataset."
   ]
  },
  {
   "cell_type": "code",
   "execution_count": 2,
   "metadata": {
    "id": "fxMa8Kp6zdQH"
   },
   "outputs": [],
   "source": [
    "engine = create_engine('sqlite:///data.sqlite')\n",
    "create_table_from_csv(engine,\n",
    "                      \"IBRD_Balance_Sheet__FY2010.csv\",\n",
    "                      table_name=\"ibrd_balance\",\n",
    "                      fields=[\n",
    "                          (\"category\", \"string\"),\n",
    "                          (\"category_label\", \"string\"),\n",
    "                          (\"subcategory\", \"string\"),\n",
    "                          (\"subcategory_label\", \"string\"),\n",
    "                          (\"line_item\", \"string\"),\n",
    "                          (\"year\", \"integer\"),\n",
    "                          (\"amount\", \"integer\")],\n",
    "                      create_id=True\n",
    "                     )\n"
   ]
  },
  {
   "cell_type": "markdown",
   "metadata": {
    "id": "fTFmeAwPzdQJ"
   },
   "source": [
    "## 3. Creating a data cube\n",
    "\n",
    "Everything in Cubes happens in an *analytical workspace*. It contains cubes, maintains connections to the data stores (with cube data), provides connection to external cubes and more.\n",
    "\n",
    "The workspace properties are specified in a configuration file slicer.ini (default name). The first thing we have to do is to specify a data store – a database which will host the cube’s data:"
   ]
  },
  {
   "cell_type": "code",
   "execution_count": 3,
   "metadata": {
    "id": "VZyn9s8mzdQK"
   },
   "outputs": [],
   "source": [
    "from cubes import Workspace\n",
    "\n",
    "workspace = Workspace()\n",
    "workspace.register_default_store(\"sql\", url=\"sqlite:///data.sqlite\")"
   ]
  },
  {
   "cell_type": "markdown",
   "metadata": {
    "id": "E9EIGCjXzdQL"
   },
   "source": [
    "The structure of data cubes (in terms of dimensions, measures, and aggregates) is specified in JSON files. We now import file 'tutorial_model.json' (found in the lab supplementary material) which includes an example model of the data cube, dimension tables, and aggregate functions for the CSV file we loaded previously."
   ]
  },
  {
   "cell_type": "code",
   "execution_count": 4,
   "metadata": {
    "id": "JnWunsqgzdQM"
   },
   "outputs": [],
   "source": [
    "workspace.import_model(\"tutorial_model.json\")"
   ]
  },
  {
   "cell_type": "markdown",
   "metadata": {
    "id": "HA01sBgQzdQN"
   },
   "source": [
    "**Please make sure to inspect the structure of the above JSON file - this will be relevant for one of the assignment questions.**\n",
    "\n",
    "We can now create a data cube based on the above data cube model and data table:"
   ]
  },
  {
   "cell_type": "code",
   "execution_count": 5,
   "metadata": {
    "id": "j8R-iLAYzdQO"
   },
   "outputs": [
    {
     "name": "stdout",
     "output_type": "stream",
     "text": [
      "success\n"
     ]
    }
   ],
   "source": [
    "cube = workspace.cube(\"ibrd_balance\")\n",
    "print(\"success\")"
   ]
  },
  {
   "cell_type": "markdown",
   "metadata": {
    "id": "jd9DjXhgzdQP"
   },
   "source": [
    "## 4. Aggregations and OLAP operations\n",
    "\n",
    "*Browser* is an object that does the actual aggregations and other data queries for a cube. To obtain one:"
   ]
  },
  {
   "cell_type": "code",
   "execution_count": 6,
   "metadata": {
    "id": "nnDst0CczdQP"
   },
   "outputs": [],
   "source": [
    "browser = workspace.browser(cube)"
   ]
  },
  {
   "cell_type": "markdown",
   "metadata": {
    "id": "YP8BLLfIzdQQ"
   },
   "source": [
    "We can now compute aggregates of the data cube as specified by the data cube model. For computing the total count of records:"
   ]
  },
  {
   "cell_type": "code",
   "execution_count": 7,
   "metadata": {
    "id": "ZOz_da0SzdQQ"
   },
   "outputs": [
    {
     "data": {
      "text/plain": [
       "62"
      ]
     },
     "execution_count": 7,
     "metadata": {},
     "output_type": "execute_result"
    }
   ],
   "source": [
    "result = browser.aggregate()\n",
    "result.summary[\"record_count\"]"
   ]
  },
  {
   "cell_type": "markdown",
   "metadata": {
    "id": "dKWET-J2zdQR"
   },
   "source": [
    "For computing a sum of the amount:"
   ]
  },
  {
   "cell_type": "code",
   "execution_count": 15,
   "metadata": {
    "id": "_MsOxTMzzdQR"
   },
   "outputs": [
    {
     "data": {
      "text/plain": [
       "550840"
      ]
     },
     "execution_count": 15,
     "metadata": {},
     "output_type": "execute_result"
    }
   ],
   "source": [
    "result.summary[\"amount_sum\"]"
   ]
  },
  {
   "cell_type": "markdown",
   "metadata": {
    "id": "smFYyUDbzdQR"
   },
   "source": [
    "Now we can try to compute aggregates by year:"
   ]
  },
  {
   "cell_type": "code",
   "execution_count": 70,
   "metadata": {
    "id": "8uAM-7DfzdQR"
   },
   "outputs": [
    {
     "name": "stdout",
     "output_type": "stream",
     "text": [
      "{'year': 2009, 'min_amount': -1683, 'max_amount': 110040, 'amount_sum': 550840, 'record_count': 31}\n",
      "{'year': 2010, 'min_amount': -3043, 'max_amount': 128577, 'amount_sum': 566020, 'record_count': 31}\n"
     ]
    }
   ],
   "source": [
    "result = browser.aggregate(drilldown=[\"year\"])\n",
    "for record in result:\n",
    "    print(record)"
   ]
  },
  {
   "cell_type": "markdown",
   "metadata": {
    "id": "5GGSTe7jzdQS"
   },
   "source": [
    "Or compute aggregates by item category:"
   ]
  },
  {
   "cell_type": "code",
   "execution_count": 173,
   "metadata": {
    "id": "oz2KrmECzdQS"
   },
   "outputs": [
    {
     "name": "stdout",
     "output_type": "stream",
     "text": [
      "{'min_amount': -3043, 'max_amount': 128577, 'amount_sum': 1116860, 'record_count': 62}\n",
      "{'item.category': 'a', 'item.category_label': 'Assets', 'item.subcategory': 'da', 'item.subcategory_label': 'Derivative Assets', 'min_amount': 2246, 'max_amount': 87457, 'amount_sum': 244691, 'record_count': 8}\n",
      "{'item.category': 'a', 'item.category_label': 'Assets', 'item.subcategory': 'dfb', 'item.subcategory_label': 'Due from Banks', 'min_amount': 222, 'max_amount': 2380, 'amount_sum': 4847, 'record_count': 4}\n",
      "{'item.category': 'a', 'item.category_label': 'Assets', 'item.subcategory': 'i', 'item.subcategory_label': 'Investments', 'min_amount': 36012, 'max_amount': 41012, 'amount_sum': 77024, 'record_count': 2}\n",
      "{'item.category': 'a', 'item.category_label': 'Assets', 'item.subcategory': 'lo', 'item.subcategory_label': 'Loans Outstanding', 'min_amount': 103657, 'max_amount': 118104, 'amount_sum': 221761, 'record_count': 2}\n",
      "{'item.category': 'a', 'item.category_label': 'Assets', 'item.subcategory': 'nn', 'item.subcategory_label': 'Nonnegotiable', 'min_amount': 1123, 'max_amount': 1202, 'amount_sum': 2325, 'record_count': 2}\n",
      "{'item.category': 'a', 'item.category_label': 'Assets', 'item.subcategory': 'oa', 'item.subcategory_label': 'Other Assets', 'min_amount': 0, 'max_amount': 2436, 'amount_sum': 5318, 'record_count': 6}\n",
      "{'item.category': 'a', 'item.category_label': 'Assets', 'item.subcategory': 'orcv', 'item.subcategory_label': 'Other Receivables', 'min_amount': 47, 'max_amount': 889, 'amount_sum': 1795, 'record_count': 4}\n",
      "{'item.category': 'a', 'item.category_label': 'Assets', 'item.subcategory': 'rcv', 'item.subcategory_label': 'Receivables', 'min_amount': 171, 'max_amount': 176, 'amount_sum': 347, 'record_count': 2}\n",
      "{'item.category': 'a', 'item.category_label': 'Assets', 'item.subcategory': 's', 'item.subcategory_label': 'Securities', 'min_amount': 33, 'max_amount': 289, 'amount_sum': 322, 'record_count': 2}\n",
      "{'item.category': 'e', 'item.category_label': 'Equity', 'item.subcategory': 'cs', 'item.subcategory_label': 'Capital Stock', 'min_amount': 11491, 'max_amount': 11492, 'amount_sum': 22983, 'record_count': 2}\n",
      "{'item.category': 'e', 'item.category_label': 'Equity', 'item.subcategory': 'da', 'item.subcategory_label': 'Deferred Amounts', 'min_amount': 313, 'max_amount': 359, 'amount_sum': 672, 'record_count': 2}\n",
      "{'item.category': 'e', 'item.category_label': 'Equity', 'item.subcategory': 'oe', 'item.subcategory_label': 'Other', 'min_amount': -3043, 'max_amount': -1683, 'amount_sum': -4726, 'record_count': 2}\n",
      "{'item.category': 'e', 'item.category_label': 'Equity', 'item.subcategory': 're', 'item.subcategory_label': 'Retained Earnings', 'min_amount': 28793, 'max_amount': 29870, 'amount_sum': 58663, 'record_count': 2}\n",
      "{'item.category': 'l', 'item.category_label': 'Liabilities', 'item.subcategory': 'b', 'item.subcategory_label': 'Borrowings', 'min_amount': 110040, 'max_amount': 128577, 'amount_sum': 238617, 'record_count': 2}\n",
      "{'item.category': 'l', 'item.category_label': 'Liabilities', 'item.subcategory': 'dl', 'item.subcategory_label': 'Derivative Liabilities', 'min_amount': 780, 'max_amount': 78655, 'amount_sum': 226060, 'record_count': 8}\n",
      "{'item.category': 'l', 'item.category_label': 'Liabilities', 'item.subcategory': 'o', 'item.subcategory_label': 'Other', 'min_amount': 8, 'max_amount': 57, 'amount_sum': 65, 'record_count': 2}\n",
      "{'item.category': 'l', 'item.category_label': 'Liabilities', 'item.subcategory': 'ol', 'item.subcategory_label': 'Other Liabilities', 'min_amount': 307, 'max_amount': 2793, 'amount_sum': 12775, 'record_count': 8}\n",
      "{'item.category': 'l', 'item.category_label': 'Liabilities', 'item.subcategory': 'sol', 'item.subcategory_label': 'Sold or Lent', 'min_amount': 998, 'max_amount': 2323, 'amount_sum': 3321, 'record_count': 2}\n"
     ]
    }
   ],
   "source": [
    "result = browser.aggregate(drilldown=[\"item:subcategory\"])\n",
    "print(result.summary)\n",
    "for record in result:\n",
    "    print(record)"
   ]
  },
  {
   "cell_type": "markdown",
   "metadata": {
    "id": "GyNipccozdQS"
   },
   "source": [
    "We can also perform *slicing* and *dicing* operations on the data cube. The below example performs a slicing operation on the data cube by selecting only entries with the year being 2009, and displays aggregates according to the item category. Here, a *cell* defines a point of interest – portion of the cube to be aggergated or browsed."
   ]
  },
  {
   "cell_type": "code",
   "execution_count": 99,
   "metadata": {
    "id": "SGth6V1kzdQS"
   },
   "outputs": [
    {
     "name": "stdout",
     "output_type": "stream",
     "text": [
      "{'item.category': 'a', 'item.category_label': 'Assets', 'min_amount': 33, 'max_amount': 103657, 'amount_sum': 275420, 'record_count': 16}\n",
      "{'item.category': 'e', 'item.category_label': 'Equity', 'min_amount': -1683, 'max_amount': 29870, 'amount_sum': 40037, 'record_count': 4}\n",
      "{'item.category': 'l', 'item.category_label': 'Liabilities', 'min_amount': 57, 'max_amount': 110040, 'amount_sum': 235383, 'record_count': 11}\n"
     ]
    }
   ],
   "source": [
    "import cubes as cubes\n",
    "cuts = [cubes.PointCut(\"year\", [\"2009\"])]\n",
    "cell = cubes.Cell(cube, cuts)\n",
    "result = browser.aggregate(cell, drilldown=[\"item\"])\n",
    "for record in result:\n",
    "    print(record)"
   ]
  },
  {
   "cell_type": "markdown",
   "metadata": {
    "id": "JxuBWl9azdQS"
   },
   "source": [
    "It's worth noting that in Cubes, slicing operations can be created by either specifying a \"point cut\" which selects a single value of an attribute in a given dimension (called using the cubes.PointCut() function as above), or by specifying a \"range cut\", which selects a range of values for a given dimension. The range cut can be called using the cubes.RangeCut() function, which takes as input the attribute name, the minimum value of the specified range, and the maximum value of the range.\n",
    "\n",
    "Similarly, we can perform a *dicing* operation on the data cube by performing a selection on two or more dimensions. The below example performs a dicing operation on the data cube, selecting entries with the year being 2009 and the item category being \"a\", and displays the aggregate results:"
   ]
  },
  {
   "cell_type": "code",
   "execution_count": 100,
   "metadata": {
    "id": "SwoOriQizdQT"
   },
   "outputs": [
    {
     "data": {
      "text/plain": [
       "{'min_amount': 33,\n",
       " 'max_amount': 103657,\n",
       " 'amount_sum': 275420,\n",
       " 'record_count': 16}"
      ]
     },
     "execution_count": 100,
     "metadata": {},
     "output_type": "execute_result"
    }
   ],
   "source": [
    "cuts = [cubes.PointCut(\"year\", [\"2009\"]),cubes.PointCut(\"item\", [\"a\"])]\n",
    "cell = cubes.Cell(cube, cuts)\n",
    "result = browser.aggregate(cell,drilldown=[\"item\"])\n",
    "result.summary"
   ]
  },
  {
   "cell_type": "markdown",
   "metadata": {
    "id": "kZkEpxrCzdQT"
   },
   "source": [
    "We can also *drill down* lower in the Category hierarchy. Here, we perform a dicing operation to select records with year being 2009 and item category being \"a\" (corresponding to assets), and show aggregates for each subcategory level."
   ]
  },
  {
   "cell_type": "code",
   "execution_count": 101,
   "metadata": {
    "id": "SWI2aH9yzdQT"
   },
   "outputs": [
    {
     "name": "stdout",
     "output_type": "stream",
     "text": [
      "{'item.category': 'a', 'item.category_label': 'Assets', 'item.subcategory': 'da', 'item.subcategory_label': 'Derivative Assets', 'min_amount': 2246, 'max_amount': 82793, 'amount_sum': 123065, 'record_count': 4}\n",
      "{'item.category': 'a', 'item.category_label': 'Assets', 'item.subcategory': 'dfb', 'item.subcategory_label': 'Due from Banks', 'min_amount': 664, 'max_amount': 2380, 'amount_sum': 3044, 'record_count': 2}\n",
      "{'item.category': 'a', 'item.category_label': 'Assets', 'item.subcategory': 'i', 'item.subcategory_label': 'Investments', 'min_amount': 41012, 'max_amount': 41012, 'amount_sum': 41012, 'record_count': 1}\n",
      "{'item.category': 'a', 'item.category_label': 'Assets', 'item.subcategory': 'lo', 'item.subcategory_label': 'Loans Outstanding', 'min_amount': 103657, 'max_amount': 103657, 'amount_sum': 103657, 'record_count': 1}\n",
      "{'item.category': 'a', 'item.category_label': 'Assets', 'item.subcategory': 'nn', 'item.subcategory_label': 'Nonnegotiable', 'min_amount': 1202, 'max_amount': 1202, 'amount_sum': 1202, 'record_count': 1}\n",
      "{'item.category': 'a', 'item.category_label': 'Assets', 'item.subcategory': 'oa', 'item.subcategory_label': 'Other Assets', 'min_amount': 325, 'max_amount': 1297, 'amount_sum': 2247, 'record_count': 3}\n",
      "{'item.category': 'a', 'item.category_label': 'Assets', 'item.subcategory': 'orcv', 'item.subcategory_label': 'Other Receivables', 'min_amount': 95, 'max_amount': 889, 'amount_sum': 984, 'record_count': 2}\n",
      "{'item.category': 'a', 'item.category_label': 'Assets', 'item.subcategory': 'rcv', 'item.subcategory_label': 'Receivables', 'min_amount': 176, 'max_amount': 176, 'amount_sum': 176, 'record_count': 1}\n",
      "{'item.category': 'a', 'item.category_label': 'Assets', 'item.subcategory': 's', 'item.subcategory_label': 'Securities', 'min_amount': 33, 'max_amount': 33, 'amount_sum': 33, 'record_count': 1}\n"
     ]
    }
   ],
   "source": [
    "cuts = [cubes.PointCut(\"year\", [\"2009\"]),cubes.PointCut(\"item\", [\"a\"])]\n",
    "cell = cubes.Cell(cube, cuts)\n",
    "result = browser.aggregate(cell,drilldown=[\"item:subcategory\"])\n",
    "for record in result:\n",
    "    print(record)"
   ]
  },
  {
   "cell_type": "markdown",
   "metadata": {
    "id": "pA9rEmEx1eB_"
   },
   "source": [
    "## <font color = 'maroon'>Assignment #2 (Part 1)</font>\n",
    "\n",
    "Question 1 is a pen-and-paper exercise; questions 2 and 3 are coding exercises. For all your answers to the assignment, please include your workings (e.g., equations, code) when this is relevant to the question."
   ]
  },
  {
   "cell_type": "markdown",
   "metadata": {
    "id": "9trjWTB4zdQT"
   },
   "source": [
    "1. Suppose that a car dealer company has a data warehouse that holds record ID lists of vehicles in terms of brands (Ferrari, Maserati, Lamborghini) and store branches (Rome, Milan, Naples). Each record consists of a combination of vehicle brand and branch. We would like to index the OLAP data using bitmap indices. Produce the *base table* for record IDs, and the corresponding *bitmap index tables* for vehicle brand and store branch. <font color = 'maroon'>[1 mark out of 5]</font>\n",
    "  \n",
    "\n",
    "2. Using the same CSV file and data cube in the above lab tutorial, modify the \"tutorial_model.json\" file to include aggregate measures for the minimum and maximum amount in the data cube. Using these implemented aggregate measures, produce the values for the minimum and maximum amount in the data per year. Make sure to show your workings in the PDF report. <font color = 'maroon'>[2 marks out of 5]</font>\n",
    "\n",
    "\n",
    "3. Using the CSV file \"country-income.csv\" (found in the supplementary lab documents), perform the following:\n",
    "  1. Load the CSV file using Cubes, create a JSON file for the data cube model, and create a data cube for the data. Use as dimensions the region, age, and online shopper fields. Use as measure the income. Define aggregate functions in the data cube model for the total, average, minimum, and maximum income. In your PDF report, show the relevant scripts and files created. <font color = 'maroon'>[1 mark out of 5]</font>\n",
    "  2. Using the created data cube and data cube model, produce aggregate results for: the whole data cube; results per region; results per online shopping activity; and results for all people aged between 40 and 50. <font color = 'maroon'>[1 mark out of 5]</font>\n",
    "  "
   ]
  },
  {
   "cell_type": "code",
   "execution_count": 23,
   "metadata": {},
   "outputs": [
    {
     "name": "stdout",
     "output_type": "stream",
     "text": [
      "year:2009\n",
      "-1683\n",
      "110040\n",
      "year:2010\n",
      "-3043\n",
      "128577\n"
     ]
    }
   ],
   "source": [
    "#Q2\n",
    "\n",
    "import cubes as cubes\n",
    "cuts2009 = [cubes.PointCut(\"year\", [\"2009\"])]\n",
    "cell2009 = cubes.Cell(cube, cuts2009)\n",
    "print(cell2009)\n",
    "min2009 = browser.aggregate(cell2009).summary[\"min_amount\"]\n",
    "max2009 = browser.aggregate(cell2009).summary[\"max_amount\"]\n",
    "print(min2009)\n",
    "print(max2009)\n",
    "\n",
    "cuts2010 = [cubes.PointCut(\"year\", [\"2010\"])]\n",
    "cell2010 = cubes.Cell(cube, cuts2010)\n",
    "print(cell2010)\n",
    "min2010 = browser.aggregate(cell2010).summary[\"min_amount\"]\n",
    "max2010 = browser.aggregate(cell2010).summary[\"max_amount\"]\n",
    "print(min2010)\n",
    "print(max2010)\n"
   ]
  },
  {
   "cell_type": "code",
   "execution_count": 119,
   "metadata": {},
   "outputs": [],
   "source": [
    "#Q4\n",
    "\n",
    "engine2 = create_engine('sqlite:///data.sqlite')\n",
    "create_table_from_csv(engine2,\n",
    "                      \"country-income.csv\",\n",
    "                      table_name=\"country-income\",\n",
    "                      fields=[\n",
    "                          (\"region\", \"string\"),\n",
    "                          (\"age\", \"integer\"),\n",
    "                          (\"income\", \"integer\"),\n",
    "                          (\"online_shopper\", \"string\")],\n",
    "                      create_id=True\n",
    "                     )\n",
    "\n",
    "workspace2 = Workspace()\n",
    "workspace2.register_default_store(\"sql\", url=\"sqlite:///data.sqlite\")\n",
    "workspace2.import_model(\"country-model.json\")\n",
    "\n",
    "cube2 = workspace2.cube(\"country-income\")\n",
    "\n",
    "browser2 = workspace2.browser(cube2)"
   ]
  },
  {
   "cell_type": "code",
   "execution_count": 172,
   "metadata": {},
   "outputs": [
    {
     "name": "stdout",
     "output_type": "stream",
     "text": [
      "Full data summary\n",
      "{'min_income': 57600, 'max_income': 99600, 'income_sum': 768200, 'record_count': 10, 'avg_income': 76820.0}\n",
      "\n",
      "Results per region\n",
      "{'region': 'Brazil', 'min_income': 57600, 'max_income': 73200, 'income_sum': 193200, 'record_count': 3, 'avg_income': 64400.0}\n",
      "{'region': 'India', 'min_income': 69600, 'max_income': 94800, 'income_sum': 331200, 'record_count': 4, 'avg_income': 82800.0}\n",
      "{'region': 'USA', 'min_income': 64800, 'max_income': 99600, 'income_sum': 243800, 'record_count': 3, 'avg_income': 81266.66666666667}\n",
      "\n",
      "Results per shopping activity\n",
      "{'min_income': 57600, 'max_income': 99600, 'income_sum': 768200, 'record_count': 10, 'avg_income': 76820.0}\n",
      "{'person.age': 32, 'person.online_shopper': 'Yes', 'min_income': 57600, 'max_income': 57600, 'income_sum': 57600, 'record_count': 1, 'avg_income': 57600.0}\n",
      "{'person.age': 35, 'person.online_shopper': 'No', 'min_income': 64800, 'max_income': 64800, 'income_sum': 64800, 'record_count': 1, 'avg_income': 64800.0}\n",
      "{'person.age': 40, 'person.online_shopper': 'Yes', 'min_income': 69600, 'max_income': 69600, 'income_sum': 69600, 'record_count': 1, 'avg_income': 69600.0}\n",
      "{'person.age': 42, 'person.online_shopper': 'Yes', 'min_income': 80400, 'max_income': 80400, 'income_sum': 80400, 'record_count': 1, 'avg_income': 80400.0}\n",
      "{'person.age': 43, 'person.online_shopper': 'No', 'min_income': 73200, 'max_income': 73200, 'income_sum': 73200, 'record_count': 1, 'avg_income': 73200.0}\n",
      "{'person.age': 45, 'person.online_shopper': 'Yes', 'min_income': 79400, 'max_income': 79400, 'income_sum': 79400, 'record_count': 1, 'avg_income': 79400.0}\n",
      "{'person.age': 46, 'person.online_shopper': 'No', 'min_income': 62400, 'max_income': 62400, 'income_sum': 62400, 'record_count': 1, 'avg_income': 62400.0}\n",
      "{'person.age': 49, 'person.online_shopper': 'No', 'min_income': 86400, 'max_income': 86400, 'income_sum': 86400, 'record_count': 1, 'avg_income': 86400.0}\n",
      "{'person.age': 53, 'person.online_shopper': 'Yes', 'min_income': 94800, 'max_income': 94800, 'income_sum': 94800, 'record_count': 1, 'avg_income': 94800.0}\n",
      "{'person.age': 55, 'person.online_shopper': 'No', 'min_income': 99600, 'max_income': 99600, 'income_sum': 99600, 'record_count': 1, 'avg_income': 99600.0}\n",
      "\n",
      "Results per age\n",
      "{'person.age': 40, 'min_income': 69600, 'max_income': 69600, 'income_sum': 69600, 'record_count': 1, 'avg_income': 69600.0}\n",
      "{'person.age': 42, 'min_income': 80400, 'max_income': 80400, 'income_sum': 80400, 'record_count': 1, 'avg_income': 80400.0}\n",
      "{'person.age': 43, 'min_income': 73200, 'max_income': 73200, 'income_sum': 73200, 'record_count': 1, 'avg_income': 73200.0}\n",
      "{'person.age': 45, 'min_income': 79400, 'max_income': 79400, 'income_sum': 79400, 'record_count': 1, 'avg_income': 79400.0}\n",
      "{'person.age': 46, 'min_income': 62400, 'max_income': 62400, 'income_sum': 62400, 'record_count': 1, 'avg_income': 62400.0}\n",
      "{'person.age': 49, 'min_income': 86400, 'max_income': 86400, 'income_sum': 86400, 'record_count': 1, 'avg_income': 86400.0}\n"
     ]
    }
   ],
   "source": [
    "#Q5\n",
    "\n",
    "#whole data set\n",
    "full_data = browser2.aggregate()\n",
    "print(\"Full data summary\")\n",
    "print(full_data.summary)\n",
    "\n",
    "#results per region\n",
    "region_data = browser2.aggregate(drilldown = [\"region\"])\n",
    "print(\"\\nResults per region\")\n",
    "for i in region_data:\n",
    "    print(i)\n",
    "    \n",
    "#results per shopping activity\n",
    "print(\"\\nResults per shopping activity\")\n",
    "\n",
    "result = browser.aggregate(drilldown=[\"item:subcategory\"])\n",
    "print(result.summary)\n",
    "for record in result:\n",
    "    print(record)\n",
    "\n",
    "cutsShop = [cubes.RangeCut(\"person\", [\"0\"],[\"100\"])]\n",
    "cellShop = cubes.Cell(cube2, cutsShop)\n",
    "shopv2 = browser2.aggregate(cellShop, drilldown=[\"person:online_shopper\"])\n",
    "print(shopv2.summary)\n",
    "\n",
    "shopping_data = browser2.aggregate(drilldown=[\"person:online_shopper\"])\n",
    "for j in shopping_data:\n",
    "    print(j)\n",
    "    \n",
    "\n",
    "#results for people aged 40-50\n",
    "print(\"\\nResults per age\")\n",
    "cutsAge = [cubes.RangeCut(\"person\", [\"40\"],[\"50\"])]\n",
    "cellAge = cubes.Cell(cube2, cutsAge)\n",
    "age_data = browser2.aggregate(cellAge, drilldown=[\"person\"])\n",
    "for l in age_data:\n",
    "    print(l)"
   ]
  },
  {
   "cell_type": "code",
   "execution_count": null,
   "metadata": {},
   "outputs": [],
   "source": []
  }
 ],
 "metadata": {
  "colab": {
   "collapsed_sections": [],
   "name": "ECS607U_Lab04.ipynb",
   "provenance": []
  },
  "kernelspec": {
   "display_name": "Python 3 (ipykernel)",
   "language": "python",
   "name": "python3"
  },
  "language_info": {
   "codemirror_mode": {
    "name": "ipython",
    "version": 3
   },
   "file_extension": ".py",
   "mimetype": "text/x-python",
   "name": "python",
   "nbconvert_exporter": "python",
   "pygments_lexer": "ipython3",
   "version": "3.9.6"
  }
 },
 "nbformat": 4,
 "nbformat_minor": 4
}
